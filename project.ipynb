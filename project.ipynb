{
 "cells": [
  {
   "cell_type": "code",
   "execution_count": 1,
   "metadata": {},
   "outputs": [],
   "source": [
    "from sklearn.cluster import KMeans\n",
    "import csv\n",
    "import numpy as np\n",
    "import pandas\n",
    "import os,scipy"
   ]
  },
  {
   "cell_type": "code",
   "execution_count": 2,
   "metadata": {},
   "outputs": [
    {
     "name": "stdout",
     "output_type": "stream",
     "text": [
      "/home/black/pipeline_4_July/10secout/Drunk/videoplayback.mp4_9_10.mp4_aligned.mp4_1.csv\n",
      "[237, 204, 15, 22, 34, 116, 93, 71, 232, 4, 129, 199, 19, 192, 30, 224, 13, 166, 186, 54, 9, 17, 103, 195, 14, 139, 176, 164, 152, 119, 80, 222, 7, 124, 89, 114, 209, 182, 23, 20]\n",
      "/home/black/pipeline_4_July/10secout/Drunk/videoplayback.mp4_9_10.mp4_aligned.mp4_3.csv\n",
      "[111, 82, 63, 213, 79, 89, 186, 112, 99, 108, 125, 92, 209, 100, 3, 110, 77, 172, 94, 225, 163, 195, 80, 119, 51, 96, 98, 75, 154, 72, 101, 84, 15, 97, 116, 129, 45, 233, 115, 20]\n",
      "/home/black/pipeline_4_July/10secout/Drunk/videoplayback.mp4_9_10.mp4_aligned.mp4_4.csv\n",
      "[178, 21, 217, 10, 70, 135, 102, 195, 64, 110, 235, 87, 56, 62, 96, 167, 77, 128, 36, 116, 42, 147, 2, 151, 205, 188, 50, 185, 124, 153, 156, 238, 101, 163, 120, 85, 138, 66, 59, 226]\n",
      "/home/black/pipeline_4_July/10secout/Drunk/videoplayback.mp4_11_15.mp4_aligned.mp4_1.csv\n",
      "[53, 186, 124, 64, 104, 8, 237, 196, 0, 33, 72, 101, 161, 109, 175, 114, 3, 209, 165, 215, 203, 1, 106, 21, 92, 87, 55, 148, 168, 57, 213, 230, 45, 224, 119, 82, 98, 220, 107, 156]\n",
      "/home/black/pipeline_4_July/10secout/Drunk/videoplayback.mp4_9_10.mp4_aligned.mp4_2.csv\n",
      "[235, 202, 209, 145, 26, 189, 157, 31, 182, 198, 75, 171, 108, 186, 204, 131, 211, 136, 19, 224, 191, 188, 187, 217, 212, 58, 7, 53, 91, 207, 185, 173, 194, 201, 124, 190, 206, 160, 226, 40]\n"
     ]
    }
   ],
   "source": [
    "input_folder = '/home/black/pipeline_4_July/10secout/Drunk'\n",
    "\n",
    "def processCSV_file(input_folder):\n",
    "    for f in os.listdir(input_folder):\n",
    "        filePath = os.path.join(input_folder, f)\n",
    "        if (f[-4:] == '.csv'):\n",
    "            do_further_processing(filePath);\n",
    "\n",
    "def do_further_processing(filePath):\n",
    "    try:\n",
    "        print(filePath)\n",
    "        with open(filePath) as csvfile:\n",
    "            reader = pandas.read_csv(csvfile)\n",
    "            landmarkX = ' eye_lmk_x_'\n",
    "            landmarkY = ' eye_lmk_y_'\n",
    "            frame = []\n",
    "            #print(reader)\n",
    "            for index, row in reader.iterrows():\n",
    "                listx = []\n",
    "                listy = []\n",
    "                for i in range(56):\n",
    "                    landmarkx = landmarkX + str(i) \n",
    "                    landmarky = landmarkY + str(i) \n",
    "                    valuex = row[landmarkx].tolist();\n",
    "                    listx.append(valuex)\n",
    "                    valuey = row[landmarky].tolist();\n",
    "                    listy.append(valuey)\n",
    "                listx = listx + listy\n",
    "                frame.append(listx)\n",
    "            find_K_cluster(frame)\n",
    "    except:\n",
    "        print('File not Found ',filePath)\n",
    "\n",
    "def find_K_cluster(frame):\n",
    "    kmeans = KMeans(n_clusters=40, random_state=0).fit(frame)\n",
    "    frame_number = []\n",
    "    for cluster in list(kmeans.cluster_centers_):\n",
    "        values = []\n",
    "        for framevector in frame:\n",
    "            values.append(scipy.spatial.distance.euclidean(cluster, framevector))\n",
    "        frame_number.append(np.argmin(values))\n",
    "    print(frame_number)\n",
    "\n",
    "processCSV_file(input_folder)"
   ]
  },
  {
   "cell_type": "code",
   "execution_count": null,
   "metadata": {},
   "outputs": [],
   "source": []
  },
  {
   "cell_type": "code",
   "execution_count": null,
   "metadata": {},
   "outputs": [],
   "source": []
  }
 ],
 "metadata": {
  "kernelspec": {
   "display_name": "Python 3",
   "language": "python",
   "name": "python3"
  },
  "language_info": {
   "codemirror_mode": {
    "name": "ipython",
    "version": 3
   },
   "file_extension": ".py",
   "mimetype": "text/x-python",
   "name": "python",
   "nbconvert_exporter": "python",
   "pygments_lexer": "ipython3",
   "version": "3.6.5"
  }
 },
 "nbformat": 4,
 "nbformat_minor": 2
}
